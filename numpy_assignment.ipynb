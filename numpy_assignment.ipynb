{
 "cells": [
  {
   "cell_type": "markdown",
   "id": "741e7b07-ac2e-4a1a-85f3-f4c5976560d8",
   "metadata": {},
   "source": [
    "Q1.Is there any difference in the data type of variables list_ and array_list? If there is then write a code\n",
    "to print the data types of both the variables."
   ]
  },
  {
   "cell_type": "code",
   "execution_count": 1,
   "id": "505a080a-1c70-4246-98ed-a390b8bac888",
   "metadata": {},
   "outputs": [
    {
     "name": "stdout",
     "output_type": "stream",
     "text": [
      "Data type of 'list_': <class 'list'>\n",
      "Data type of 'array_list': <class 'numpy.ndarray'>\n"
     ]
    }
   ],
   "source": [
    "import numpy as np\n",
    "\n",
    "# Create a regular Python list\n",
    "list_ = [1, 2, 3, 4, 5]\n",
    "\n",
    "# Create a NumPy array\n",
    "array_list = np.array([1, 2, 3, 4, 5])\n",
    "\n",
    "# Print the data types of both variables\n",
    "print(\"Data type of 'list_':\", type(list_))\n",
    "print(\"Data type of 'array_list':\", type(array_list))\n"
   ]
  },
  {
   "cell_type": "code",
   "execution_count": null,
   "id": "2934ffbd-cf02-4fed-b33b-6365f242c79b",
   "metadata": {},
   "outputs": [],
   "source": []
  },
  {
   "cell_type": "markdown",
   "id": "ff94b987-c3a7-42a1-918c-da65b06a6040",
   "metadata": {},
   "source": [
    "Q2.Write a code to print the data type of each and every element of both the variables list_ and\n",
    "arra_list."
   ]
  },
  {
   "cell_type": "code",
   "execution_count": 2,
   "id": "7947c930-b8af-44cf-9f06-9ec95ce63d54",
   "metadata": {},
   "outputs": [
    {
     "name": "stdout",
     "output_type": "stream",
     "text": [
      "Data types in 'list_':\n",
      "<class 'int'>\n",
      "<class 'int'>\n",
      "<class 'int'>\n",
      "<class 'int'>\n",
      "<class 'int'>\n",
      "\n",
      "Data types in 'array_list':\n",
      "<class 'numpy.int64'>\n",
      "<class 'numpy.int64'>\n",
      "<class 'numpy.int64'>\n",
      "<class 'numpy.int64'>\n",
      "<class 'numpy.int64'>\n"
     ]
    }
   ],
   "source": [
    "# Create a regular Python list\n",
    "list_ = [1, 2, 3, 4, 5]\n",
    "\n",
    "# Create a NumPy array\n",
    "array_list = np.array([1, 2, 3, 4, 5])\n",
    "\n",
    "# Print data types of each element in 'list_'\n",
    "print(\"Data types in 'list_':\")\n",
    "for element in list_:\n",
    "    print(type(element))\n",
    "\n",
    "# Print data types of each element in 'array_list'\n",
    "print(\"\\nData types in 'array_list':\")\n",
    "for element in array_list:\n",
    "    print(type(element))"
   ]
  },
  {
   "cell_type": "code",
   "execution_count": null,
   "id": "ef9e9666-cf84-4a46-8efe-34c6dae480d9",
   "metadata": {},
   "outputs": [],
   "source": []
  },
  {
   "cell_type": "markdown",
   "id": "5477400f-1496-416a-b932-38ff90e367e0",
   "metadata": {},
   "source": [
    "Q3."
   ]
  },
  {
   "cell_type": "code",
   "execution_count": 4,
   "id": "42329db0-63eb-4588-8892-2d45d943f69d",
   "metadata": {},
   "outputs": [
    {
     "name": "stdout",
     "output_type": "stream",
     "text": [
      "Data types in 'list_':\n",
      "<class 'int'>\n",
      "<class 'int'>\n",
      "<class 'int'>\n",
      "<class 'int'>\n",
      "<class 'int'>\n",
      "\n",
      "Data types in 'array_list':\n",
      "<class 'numpy.int64'>\n",
      "<class 'numpy.int64'>\n",
      "<class 'numpy.int64'>\n",
      "<class 'numpy.int64'>\n",
      "<class 'numpy.int64'>\n"
     ]
    }
   ],
   "source": [
    "import numpy as np\n",
    "\n",
    "# Create a regular Python list\n",
    "list_ = [1, 2, 3, 4, 5]\n",
    "\n",
    "# Create a NumPy array with specified data type 'int'\n",
    "array_list = np.array(object=list_, dtype=int)\n",
    "\n",
    "# Print data types of each element in 'list_'\n",
    "print(\"Data types in 'list_':\")\n",
    "for element in list_:\n",
    "    print(type(element))\n",
    "\n",
    "# Print data types of each element in 'array_list'\n",
    "print(\"\\nData types in 'array_list':\")\n",
    "for element in array_list:\n",
    "    print(type(element))\n"
   ]
  },
  {
   "cell_type": "code",
   "execution_count": null,
   "id": "e116fc12-feac-4e19-8376-7bb29cf3e00b",
   "metadata": {},
   "outputs": [],
   "source": []
  },
  {
   "cell_type": "markdown",
   "id": "725bf020-19cc-4b64-9bc6-7e05597da6bf",
   "metadata": {},
   "source": [
    "Q4"
   ]
  },
  {
   "cell_type": "code",
   "execution_count": 6,
   "id": "bb6eedae-3cfd-4432-b09c-751b8cd2a97a",
   "metadata": {},
   "outputs": [],
   "source": [
    "num_list = [ [ 1 , 2 , 3 ] , [ 4 , 5 , 6 ] ]\n",
    "num_array = np.array(object = num_list)"
   ]
  },
  {
   "cell_type": "code",
   "execution_count": 9,
   "id": "db6d3f70-e622-468d-b9c7-c9c9baeae9b1",
   "metadata": {},
   "outputs": [],
   "source": [
    "df=num_array"
   ]
  },
  {
   "cell_type": "code",
   "execution_count": 10,
   "id": "90ea2121-dc5a-441d-9177-f83611e9d684",
   "metadata": {},
   "outputs": [
    {
     "data": {
      "text/plain": [
       "array([[1, 2, 3],\n",
       "       [4, 5, 6]])"
      ]
     },
     "execution_count": 10,
     "metadata": {},
     "output_type": "execute_result"
    }
   ],
   "source": [
    "df"
   ]
  },
  {
   "cell_type": "code",
   "execution_count": 12,
   "id": "3b93b41c-54ec-4c55-b684-14f18789ff35",
   "metadata": {},
   "outputs": [
    {
     "data": {
      "text/plain": [
       "(2, 3)"
      ]
     },
     "execution_count": 12,
     "metadata": {},
     "output_type": "execute_result"
    }
   ],
   "source": [
    "df.shape"
   ]
  },
  {
   "cell_type": "code",
   "execution_count": 13,
   "id": "217c7df0-f152-4bf4-bfe9-513407384b5e",
   "metadata": {},
   "outputs": [
    {
     "data": {
      "text/plain": [
       "6"
      ]
     },
     "execution_count": 13,
     "metadata": {},
     "output_type": "execute_result"
    }
   ],
   "source": [
    "df.size"
   ]
  },
  {
   "cell_type": "code",
   "execution_count": null,
   "id": "29425d1d-3d97-4d97-a906-6667767d571a",
   "metadata": {},
   "outputs": [],
   "source": []
  },
  {
   "cell_type": "markdown",
   "id": "841e94f5-3226-4a19-be66-7dc63431acf4",
   "metadata": {},
   "source": [
    "Q5"
   ]
  },
  {
   "cell_type": "code",
   "execution_count": 16,
   "id": "2ad83159-db46-4fd2-905b-2cba06e03fc7",
   "metadata": {},
   "outputs": [],
   "source": [
    "zero_matrix = np.zeros((3,3))"
   ]
  },
  {
   "cell_type": "code",
   "execution_count": 17,
   "id": "2370f408-ff1b-4aa0-8dd9-08d1eab849e6",
   "metadata": {},
   "outputs": [
    {
     "name": "stdout",
     "output_type": "stream",
     "text": [
      "[[0. 0. 0.]\n",
      " [0. 0. 0.]\n",
      " [0. 0. 0.]]\n"
     ]
    }
   ],
   "source": [
    "print(zero_matrix)"
   ]
  },
  {
   "cell_type": "markdown",
   "id": "0a74d6ed-1eb6-4957-9de1-668d7377ed20",
   "metadata": {},
   "source": [
    "Q6"
   ]
  },
  {
   "cell_type": "code",
   "execution_count": 20,
   "id": "de530b1d-f37a-40bb-b283-7c6c5eb2a8e2",
   "metadata": {},
   "outputs": [],
   "source": [
    "diagonal_matrix = np.eye(5)"
   ]
  },
  {
   "cell_type": "code",
   "execution_count": 21,
   "id": "a3adfc05-99fd-4839-9460-bd4a1c0f32fa",
   "metadata": {},
   "outputs": [
    {
     "name": "stdout",
     "output_type": "stream",
     "text": [
      "[[1. 0. 0. 0. 0.]\n",
      " [0. 1. 0. 0. 0.]\n",
      " [0. 0. 1. 0. 0.]\n",
      " [0. 0. 0. 1. 0.]\n",
      " [0. 0. 0. 0. 1.]]\n"
     ]
    }
   ],
   "source": [
    "print(diagonal_matrix)"
   ]
  },
  {
   "cell_type": "code",
   "execution_count": null,
   "id": "d315ad3b-3bda-40d2-9390-5b892f446280",
   "metadata": {},
   "outputs": [],
   "source": []
  }
 ],
 "metadata": {
  "kernelspec": {
   "display_name": "Python 3 (ipykernel)",
   "language": "python",
   "name": "python3"
  },
  "language_info": {
   "codemirror_mode": {
    "name": "ipython",
    "version": 3
   },
   "file_extension": ".py",
   "mimetype": "text/x-python",
   "name": "python",
   "nbconvert_exporter": "python",
   "pygments_lexer": "ipython3",
   "version": "3.10.8"
  }
 },
 "nbformat": 4,
 "nbformat_minor": 5
}
